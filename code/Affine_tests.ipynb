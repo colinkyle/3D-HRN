{
 "cells": [
  {
   "cell_type": "code",
   "execution_count": 158,
   "metadata": {
    "collapsed": true
   },
   "outputs": [],
   "source": [
    "import fsys\n",
    "import numpy as np\n",
    "from imtools import MRI\n",
    "import math\n",
    "\n",
    "fsys.cd('/Users/colin/Dropbox/__Atlas__/Simulated/')\n",
    "mri = MRI('mri_small.nii')"
   ]
  },
  {
   "cell_type": "code",
   "execution_count": 159,
   "metadata": {},
   "outputs": [
    {
     "data": {
      "text/plain": [
       "array([[   2.94985247,    0.        ,    0.        ,  -73.55014801],\n",
       "       [   0.        ,    2.94985247,    0.        , -108.55014801],\n",
       "       [   0.        ,    0.        ,    2.94985247,  -69.55014801],\n",
       "       [   0.        ,    0.        ,    0.        ,    1.        ]])"
      ]
     },
     "execution_count": 159,
     "metadata": {},
     "output_type": "execute_result"
    }
   ],
   "source": [
    "mri.info.affine"
   ]
  },
  {
   "cell_type": "code",
   "execution_count": 160,
   "metadata": {
    "collapsed": true
   },
   "outputs": [],
   "source": [
    "x = np.array(mri.info.affine[0][0]*range(mri.data.shape[0])+mri.info.affine[0][3])\n",
    "y = np.array(mri.info.affine[1][1]*range(mri.data.shape[1])+mri.info.affine[1][3]) \n",
    "z = np.array(mri.info.affine[2][2]*range(mri.data.shape[2])+mri.info.affine[2][3])\n",
    "# 3D\n",
    "# XX, YY = np.atleast_3d(x, y)\n",
    "# ZZ = np.atleast_3d(z)\n",
    "# XX = XX.swapaxes(0,1)\n",
    "# YY = YY.swapaxes(0,2)\n",
    "# ZZ = ZZ.swapaxes(1,2)\n",
    "# 2D\n",
    "XX, YY, ZZ = np.atleast_2d(x, y, z)\n",
    "XX = XX\n",
    "YY = YY.T"
   ]
  },
  {
   "cell_type": "code",
   "execution_count": 161,
   "metadata": {},
   "outputs": [
    {
     "data": {
      "text/plain": [
       "(52, 54, 64)"
      ]
     },
     "execution_count": 161,
     "metadata": {},
     "output_type": "execute_result"
    }
   ],
   "source": [
    "mri.data.shape"
   ]
  },
  {
   "cell_type": "code",
   "execution_count": 162,
   "metadata": {},
   "outputs": [
    {
     "name": "stdout",
     "output_type": "stream",
     "text": [
      "(1, 52) (54, 1) (1, 64)\n"
     ]
    }
   ],
   "source": [
    "print(XX.shape,YY.shape,ZZ.shape)"
   ]
  },
  {
   "cell_type": "code",
   "execution_count": 163,
   "metadata": {
    "collapsed": true
   },
   "outputs": [],
   "source": [
    "theta_xyz = [-10,0,0]\n",
    "affine_x = np.array([[1, 0, 0, 0], \n",
    "                        [0, math.cos(math.radians(theta_xyz[0])), -1.*math.sin(math.radians(theta_xyz[0])), 0], \n",
    "                        [0, math.sin(math.radians(theta_xyz[0])), math.cos(math.radians(theta_xyz[0])), 0],\n",
    "                        [0, 0, 0, 1]])\n",
    "\n",
    "affine_y = np.array([[math.cos(math.radians(theta_xyz[1])), 0, math.sin(math.radians(theta_xyz[1])), 0], \n",
    "                [0, 1, 0, 0], \n",
    "                [-1.*math.sin(math.radians(theta_xyz[1])), 0, math.cos(math.radians(theta_xyz[1])), 0], \n",
    "                [0, 0, 0, 1]])\n",
    "\n",
    "affine_z = np.array([[math.cos(math.radians(theta_xyz[2])), -1.*math.sin(math.radians(theta_xyz[2])), 0, 0], \n",
    "                        [math.sin(math.radians(theta_xyz[2])), math.cos(math.radians(theta_xyz[2])), 0, 0], \n",
    "                        [0, 0, 1, 0], \n",
    "                        [0, 0, 0, 1]])\n",
    "MAT = np.dot(np.dot(affine_x,affine_y),affine_z)\n",
    "XXX = MAT[0][0]*XX + MAT[0][1]*YY + MAT[0][2]*2.4 + MAT[0][3]\n",
    "YYY = MAT[1][0]*XX + MAT[1][1]*YY + MAT[1][2]*2.4 + MAT[1][3]\n",
    "ZZZ = MAT[2][0]*XX + MAT[2][1]*YY + MAT[2][2]*2.4 + MAT[2][3]"
   ]
  },
  {
   "cell_type": "code",
   "execution_count": 164,
   "metadata": {},
   "outputs": [
    {
     "name": "stdout",
     "output_type": "stream",
     "text": [
      "(54, 52) (54, 52) (54, 52)\n"
     ]
    }
   ],
   "source": [
    "print(XXX.shape,YYY.shape,ZZZ.shape)"
   ]
  },
  {
   "cell_type": "code",
   "execution_count": 165,
   "metadata": {
    "collapsed": true
   },
   "outputs": [],
   "source": [
    "from scipy.interpolate import RegularGridInterpolator\n",
    "from scipy.interpolate import interpn\n",
    "from numpy import linspace, zeros, array\n",
    "\n",
    "# fn = RegularGridInterpolator((x,y,z), mri.data)\n",
    "# pts = array([XXX.flatten(),YYY.flatten(),ZZZ.flatten()]).T\n",
    "# V2 = fn(pts)\n",
    "V2 = interpn((x,y,z), mri.data, array([XXX,YYY,ZZZ]).T,bounds_error=False,fill_value=0)"
   ]
  },
  {
   "cell_type": "code",
   "execution_count": 166,
   "metadata": {},
   "outputs": [
    {
     "data": {
      "image/png": "[encoded data removed]",
      "text/plain": [
       "<matplotlib.figure.Figure at 0x11063b588>"
      ]
     },
     "metadata": {},
     "output_type": "display_data"
    }
   ],
   "source": [
    "import matplotlib.pyplot as plt\n",
    "plt.imshow(V2)\n",
    "plt.show()"
   ]
  },
  {
   "cell_type": "code",
   "execution_count": 149,
   "metadata": {},
   "outputs": [
    {
     "data": {
      "image/png": "[encoded data removed]",
      "text/plain": [
       "<matplotlib.figure.Figure at 0x11063b358>"
      ]
     },
     "metadata": {},
     "output_type": "display_data"
    }
   ],
   "source": [
    "import matplotlib.pyplot as plt\n",
    "plt.imshow(mri.data[:,:,30])\n",
    "plt.show()"
   ]
  },
  {
   "cell_type": "code",
   "execution_count": 122,
   "metadata": {},
   "outputs": [
    {
     "data": {
      "text/plain": [
       "array([[ 28.94542599,  28.94542599,  28.94542599, ...,  28.94542599,\n",
       "         28.94542599,  28.94542599],\n",
       "       [ 28.94542599,  28.94542599,  28.94542599, ...,  28.94542599,\n",
       "         28.94542599,  28.94542599],\n",
       "       [ 28.94542599,  28.94542599,  28.94542599, ...,  28.94542599,\n",
       "         28.94542599,  28.94542599],\n",
       "       ..., \n",
       "       [ 28.94542599,  28.94542599,  28.94542599, ...,  28.94542599,\n",
       "         28.94542599,  28.94542599],\n",
       "       [ 28.94542599,  28.94542599,  28.94542599, ...,  28.94542599,\n",
       "         28.94542599,  28.94542599],\n",
       "       [ 28.94542599,  28.94542599,  28.94542599, ...,  28.94542599,\n",
       "         28.94542599,  28.94542599]])"
      ]
     },
     "execution_count": 122,
     "metadata": {},
     "output_type": "execute_result"
    }
   ],
   "source": [
    "ZZZ"
   ]
  },
  {
   "cell_type": "code",
   "execution_count": 150,
   "metadata": {},
   "outputs": [
    {
     "data": {
      "text/plain": [
       "7.3890560989306504"
      ]
     },
     "execution_count": 150,
     "metadata": {},
     "output_type": "execute_result"
    }
   ],
   "source": [
    "np.exp(2)"
   ]
  },
  {
   "cell_type": "code",
   "execution_count": 151,
   "metadata": {},
   "outputs": [
    {
     "data": {
      "text/plain": [
       "518.01282466834198"
      ]
     },
     "execution_count": 151,
     "metadata": {},
     "output_type": "execute_result"
    }
   ],
   "source": [
    "np.exp(6.25)"
   ]
  },
  {
   "cell_type": "code",
   "execution_count": 152,
   "metadata": {},
   "outputs": [
    {
     "data": {
      "text/plain": [
       "-1.3862943611198906"
      ]
     },
     "execution_count": 152,
     "metadata": {},
     "output_type": "execute_result"
    }
   ],
   "source": [
    "np.log(.5) + np.log(.5)"
   ]
  },
  {
   "cell_type": "code",
   "execution_count": 153,
   "metadata": {},
   "outputs": [
    {
     "data": {
      "text/plain": [
       "0.25"
      ]
     },
     "execution_count": 153,
     "metadata": {},
     "output_type": "execute_result"
    }
   ],
   "source": [
    "np.exp(np.log(.5) + np.log(.5))"
   ]
  },
  {
   "cell_type": "code",
   "execution_count": 154,
   "metadata": {},
   "outputs": [
    {
     "data": {
      "text/plain": [
       "0.010000000000000004"
      ]
     },
     "execution_count": 154,
     "metadata": {},
     "output_type": "execute_result"
    }
   ],
   "source": [
    "np.exp(np.log(.1) + np.log(.1))"
   ]
  },
  {
   "cell_type": "code",
   "execution_count": 155,
   "metadata": {},
   "outputs": [
    {
     "data": {
      "text/plain": [
       "-4.6051701859880909"
      ]
     },
     "execution_count": 155,
     "metadata": {},
     "output_type": "execute_result"
    }
   ],
   "source": [
    "np.log(.1) + np.log(.1)"
   ]
  },
  {
   "cell_type": "code",
   "execution_count": 156,
   "metadata": {},
   "outputs": [
    {
     "data": {
      "text/plain": [
       "-0.5753641449035618"
      ]
     },
     "execution_count": 156,
     "metadata": {},
     "output_type": "execute_result"
    }
   ],
   "source": [
    "np.log(.75) + np.log(.75)"
   ]
  },
  {
   "cell_type": "code",
   "execution_count": 157,
   "metadata": {},
   "outputs": [
    {
     "data": {
      "text/plain": [
       "0.5625"
      ]
     },
     "execution_count": 157,
     "metadata": {},
     "output_type": "execute_result"
    }
   ],
   "source": [
    "np.exp(np.log(.75) + np.log(.75))"
   ]
  },
  {
   "cell_type": "code",
   "execution_count": 171,
   "metadata": {
    "collapsed": true
   },
   "outputs": [],
   "source": [
    "warp = np.array([[  0.96584845,  -0.25910756,  0, 84.25178528],\n",
    "       [  0.25910756,   0.96584845, 0, -18.89277077],\n",
    "       [ 0, 0, 1, 0],\n",
    "                [0, 0, 0, 1]])\n"
   ]
  },
  {
   "cell_type": "code",
   "execution_count": 172,
   "metadata": {
    "collapsed": true
   },
   "outputs": [],
   "source": [
    "reg = np.array([[0.737, 0, 0, -94.7045],\n",
    " [0, 0.737, 0, -97.6525],\n",
    " [0, 0, 0.737, -18.793499999999998],\n",
    " [0, 0, 0, 1]]\n",
    ")"
   ]
  },
  {
   "cell_type": "code",
   "execution_count": 173,
   "metadata": {},
   "outputs": [
    {
     "data": {
      "text/plain": [
       "array([[   0.71183031,   -0.19096227,    0.        ,   18.08409175],\n",
       "       [   0.19096227,    0.71183031,    0.        , -137.74893845],\n",
       "       [   0.        ,    0.        ,    0.737     ,  -18.7935    ],\n",
       "       [   0.        ,    0.        ,    0.        ,    1.        ]])"
      ]
     },
     "execution_count": 173,
     "metadata": {},
     "output_type": "execute_result"
    }
   ],
   "source": [
    "np.dot(warp,reg)"
   ]
  },
  {
   "cell_type": "code",
   "execution_count": 174,
   "metadata": {},
   "outputs": [
    {
     "data": {
      "text/plain": [
       "array([[   0.71183031,   -0.19096227,    0.        ,  -32.61093425],\n",
       "       [   0.19096227,    0.71183031,    0.        , -111.57647206],\n",
       "       [   0.        ,    0.        ,    0.737     ,  -18.7935    ],\n",
       "       [   0.        ,    0.        ,    0.        ,    1.        ]])"
      ]
     },
     "execution_count": 174,
     "metadata": {},
     "output_type": "execute_result"
    }
   ],
   "source": [
    "np.dot(reg,warp)"
   ]
  },
  {
   "cell_type": "code",
   "execution_count": 176,
   "metadata": {},
   "outputs": [
    {
     "data": {
      "text/plain": [
       "array([[  7.34941677e-01,   5.50427344e-02,   0.00000000e+00,\n",
       "         -7.07258340e+01],\n",
       "       [ -5.50427344e-02,   7.34941677e-01,   0.00000000e+00,\n",
       "         -9.34970024e+01],\n",
       "       [  0.00000000e+00,   0.00000000e+00,   7.37000000e-01,\n",
       "         -1.87935000e+01],\n",
       "       [  0.00000000e+00,   0.00000000e+00,   0.00000000e+00,\n",
       "          1.00000000e+00]])"
      ]
     },
     "execution_count": 176,
     "metadata": {},
     "output_type": "execute_result"
    }
   ],
   "source": [
    "warp2 = np.array([[  0.99720716,   0.07468485,  0, 31.00733376],\n",
    "       [ -0.07468485,   0.99720716,  0, -3.19022155],\n",
    "                 [0, 0, 1, 0],\n",
    "                 [0, 0, 0, 1]]\n",
    ")\n",
    "np.dot(warp2,reg)"
   ]
  },
  {
   "cell_type": "code",
   "execution_count": 177,
   "metadata": {},
   "outputs": [
    {
     "data": {
      "text/plain": [
       "array([[  7.34941677e-01,   5.50427344e-02,   0.00000000e+00,\n",
       "         -7.07258340e+01],\n",
       "       [ -5.50427344e-02,   7.34941677e-01,   0.00000000e+00,\n",
       "         -9.34970024e+01],\n",
       "       [  0.00000000e+00,   0.00000000e+00,   7.37000000e-01,\n",
       "         -1.87935000e+01],\n",
       "       [  0.00000000e+00,   0.00000000e+00,   0.00000000e+00,\n",
       "          1.00000000e+00]])"
      ]
     },
     "execution_count": 177,
     "metadata": {},
     "output_type": "execute_result"
    }
   ],
   "source": [
    "np.dot(warp2,reg)"
   ]
  },
  {
   "cell_type": "code",
   "execution_count": 179,
   "metadata": {},
   "outputs": [
    {
     "data": {
      "text/plain": [
       "array([[  0.99720721,  -0.07468485,   0.        , -31.15899811],\n",
       "       [  0.07468485,   0.99720721,   0.        ,   0.86553375],\n",
       "       [  0.        ,   0.        ,   1.        ,   0.        ],\n",
       "       [  0.        ,   0.        ,   0.        ,   1.        ]])"
      ]
     },
     "execution_count": 179,
     "metadata": {},
     "output_type": "execute_result"
    }
   ],
   "source": [
    "np.linalg.inv(warp2)"
   ]
  },
  {
   "cell_type": "code",
   "execution_count": 180,
   "metadata": {},
   "outputs": [
    {
     "data": {
      "text/plain": [
       "array([[  0.99720716,   0.07468485,   0.        ,  31.00733376],\n",
       "       [ -0.07468485,   0.99720716,   0.        ,  -3.19022155],\n",
       "       [  0.        ,   0.        ,   1.        ,   0.        ],\n",
       "       [  0.        ,   0.        ,   0.        ,   1.        ]])"
      ]
     },
     "execution_count": 180,
     "metadata": {},
     "output_type": "execute_result"
    }
   ],
   "source": [
    "warp2"
   ]
  },
  {
   "cell_type": "code",
   "execution_count": 181,
   "metadata": {},
   "outputs": [
    {
     "data": {
      "text/plain": [
       "array([[  0.96584849,   0.25910757,   0.        , -76.47919985],\n",
       "       [ -0.25910757,   0.96584849,   0.        ,  40.07782964],\n",
       "       [  0.        ,   0.        ,   1.        ,   0.        ],\n",
       "       [  0.        ,   0.        ,   0.        ,   1.        ]])"
      ]
     },
     "execution_count": 181,
     "metadata": {},
     "output_type": "execute_result"
    }
   ],
   "source": [
    "np.linalg.inv(warp)"
   ]
  },
  {
   "cell_type": "code",
   "execution_count": 182,
   "metadata": {},
   "outputs": [
    {
     "data": {
      "text/plain": [
       "-45.32020174"
      ]
     },
     "execution_count": 182,
     "metadata": {},
     "output_type": "execute_result"
    }
   ],
   "source": [
    "-76.47919985+ 31.15899811"
   ]
  },
  {
   "cell_type": "code",
   "execution_count": 183,
   "metadata": {},
   "outputs": [
    {
     "data": {
      "text/plain": [
       "39.21229589"
      ]
     },
     "execution_count": 183,
     "metadata": {},
     "output_type": "execute_result"
    }
   ],
   "source": [
    "40.07782964 - 0.86553375\n"
   ]
  },
  {
   "cell_type": "code",
   "execution_count": 207,
   "metadata": {
    "collapsed": true
   },
   "outputs": [],
   "source": [
    "wapy = np.dot(warp,np.linalg.inv(warp2))"
   ]
  },
  {
   "cell_type": "code",
   "execution_count": 210,
   "metadata": {},
   "outputs": [
    {
     "name": "stdout",
     "output_type": "stream",
     "text": [
      "max:  -26.1303283155 53.9326489104 -19.3002298103\n"
     ]
    }
   ],
   "source": [
    "dy, dx, dtheta = wapy[0][3], wapy[1][3], np.arcsin(wapy[0][1]) * 180 / np.pi\n",
    "print('max: ', dx, dy, dtheta)"
   ]
  },
  {
   "cell_type": "code",
   "execution_count": 209,
   "metadata": {},
   "outputs": [
    {
     "data": {
      "text/plain": [
       "array([[ 1.,  0.,  0.],\n",
       "       [ 0.,  1.,  0.],\n",
       "       [ 0.,  0.,  1.]])"
      ]
     },
     "execution_count": 209,
     "metadata": {},
     "output_type": "execute_result"
    }
   ],
   "source": [
    "np.eye(3)"
   ]
  },
  {
   "cell_type": "code",
   "execution_count": null,
   "metadata": {
    "collapsed": true
   },
   "outputs": [],
   "source": []
  }
 ],
 "metadata": {
  "kernelspec": {
   "display_name": "Python 3",
   "language": "python",
   "name": "python3"
  },
  "language_info": {
   "codemirror_mode": {
    "name": "ipython",
    "version": 3
   },
   "file_extension": ".py",
   "mimetype": "text/x-python",
   "name": "python",
   "nbconvert_exporter": "python",
   "pygments_lexer": "ipython3",
   "version": "3.6.3"
  }
 },
 "nbformat": 4,
 "nbformat_minor": 2
}
