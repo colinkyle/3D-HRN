{
 "cells": [
  {
   "cell_type": "code",
   "execution_count": 129,
   "metadata": {},
   "outputs": [],
   "source": [
    "import fsys\n",
    "import numpy as np\n",
    "from imtools import MRI\n",
    "import math\n",
    "\n",
    "fsys.cd('/Users/colin/Dropbox/__Atlas__/Simulated/')\n",
    "mri = MRI('mri_small.nii')"
   ]
  },
  {
   "cell_type": "code",
   "execution_count": 130,
   "metadata": {},
   "outputs": [
    {
     "data": {
      "text/plain": [
       "array([[   2.94985247,    0.        ,    0.        ,  -73.55014801],\n",
       "       [   0.        ,    2.94985247,    0.        , -108.55014801],\n",
       "       [   0.        ,    0.        ,    2.94985247,  -69.55014801],\n",
       "       [   0.        ,    0.        ,    0.        ,    1.        ]])"
      ]
     },
     "execution_count": 130,
     "metadata": {},
     "output_type": "execute_result"
    }
   ],
   "source": [
    "mri.info.affine"
   ]
  },
  {
   "cell_type": "code",
   "execution_count": 131,
   "metadata": {},
   "outputs": [],
   "source": [
    "x = np.array(mri.info.affine[0][0]*range(mri.data.shape[0])+mri.info.affine[0][3])\n",
    "y = np.array(mri.info.affine[1][1]*range(mri.data.shape[1])+mri.info.affine[1][3]) \n",
    "z = np.array(mri.info.affine[2][2]*range(mri.data.shape[2])+mri.info.affine[2][3])\n",
    "# 3D\n",
    "# XX, YY = np.atleast_3d(x, y)\n",
    "# ZZ = np.atleast_3d(z)\n",
    "# XX = XX.swapaxes(0,1)\n",
    "# YY = YY.swapaxes(0,2)\n",
    "# ZZ = ZZ.swapaxes(1,2)\n",
    "# 2D\n",
    "XX, YY, ZZ = np.atleast_2d(x, y, z)\n",
    "XX = XX\n",
    "YY = YY.T"
   ]
  },
  {
   "cell_type": "code",
   "execution_count": 132,
   "metadata": {},
   "outputs": [
    {
     "data": {
      "text/plain": [
       "(52, 54, 64)"
      ]
     },
     "execution_count": 132,
     "metadata": {},
     "output_type": "execute_result"
    }
   ],
   "source": [
    "mri.data.shape"
   ]
  },
  {
   "cell_type": "code",
   "execution_count": 133,
   "metadata": {},
   "outputs": [
    {
     "name": "stdout",
     "output_type": "stream",
     "text": [
      "(1, 52) (54, 1) (1, 64)\n"
     ]
    }
   ],
   "source": [
    "print(XX.shape,YY.shape,ZZ.shape)"
   ]
  },
  {
   "cell_type": "code",
   "execution_count": 145,
   "metadata": {},
   "outputs": [],
   "source": [
    "theta_xyz = [10,0,0]\n",
    "affine_x = np.array([[1, 0, 0, 0], \n",
    "                        [0, math.cos(math.radians(theta_xyz[0])), -1.*math.sin(math.radians(theta_xyz[0])), 0], \n",
    "                        [0, math.sin(math.radians(theta_xyz[0])), math.cos(math.radians(theta_xyz[0])), 0],\n",
    "                        [0, 0, 0, 1]])\n",
    "\n",
    "affine_y = np.array([[math.cos(math.radians(theta_xyz[1])), 0, math.sin(math.radians(theta_xyz[1])), 0], \n",
    "                [0, 1, 0, 0], \n",
    "                [-1.*math.sin(math.radians(theta_xyz[1])), 0, math.cos(math.radians(theta_xyz[1])), 0], \n",
    "                [0, 0, 0, 1]])\n",
    "\n",
    "affine_z = np.array([[math.cos(math.radians(theta_xyz[2])), -1.*math.sin(math.radians(theta_xyz[2])), 0, 0], \n",
    "                        [math.sin(math.radians(theta_xyz[2])), math.cos(math.radians(theta_xyz[2])), 0, 0], \n",
    "                        [0, 0, 1, 0], \n",
    "                        [0, 0, 0, 1]])\n",
    "MAT = np.dot(np.dot(affine_x,affine_y),affine_z)\n",
    "XXX = MAT[0][0]*XX + MAT[0][1]*YY + MAT[0][2]*ZZ[0][30] + MAT[0][3]\n",
    "YYY = MAT[1][0]*XX + MAT[1][1]*YY + MAT[1][2]*ZZ[0][30] + MAT[1][3]\n",
    "ZZZ = MAT[2][0]*XX + MAT[2][1]*YY + MAT[2][2]*ZZ[0][30] + MAT[2][3]"
   ]
  },
  {
   "cell_type": "code",
   "execution_count": 146,
   "metadata": {},
   "outputs": [
    {
     "name": "stdout",
     "output_type": "stream",
     "text": [
      "(54, 52) (54, 52) (54, 52)\n"
     ]
    }
   ],
   "source": [
    "print(XXX.shape,YYY.shape,ZZZ.shape)"
   ]
  },
  {
   "cell_type": "code",
   "execution_count": 147,
   "metadata": {},
   "outputs": [],
   "source": [
    "from scipy.interpolate import RegularGridInterpolator\n",
    "from scipy.interpolate import interpn\n",
    "from numpy import linspace, zeros, array\n",
    "\n",
    "# fn = RegularGridInterpolator((x,y,z), mri.data)\n",
    "# pts = array([XXX.flatten(),YYY.flatten(),ZZZ.flatten()]).T\n",
    "# V2 = fn(pts)\n",
    "V2 = interpn((x,y,z), mri.data, array([XXX,YYY,ZZZ]).T,bounds_error=False,fill_value=0)"
   ]
  },
  {
   "cell_type": "code",
   "execution_count": 148,
   "metadata": {},
   "outputs": [
    {
     "data": {
      "image/png": "[encoded data removed]",
      "text/plain": [
       "<matplotlib.figure.Figure at 0x110717630>"
      ]
     },
     "metadata": {},
     "output_type": "display_data"
    }
   ],
   "source": [
    "import matplotlib.pyplot as plt\n",
    "plt.imshow(V2)\n",
    "plt.show()"
   ]
  },
  {
   "cell_type": "code",
   "execution_count": 149,
   "metadata": {},
   "outputs": [
    {
     "data": {
      "image/png": "[encoded data removed]",
      "text/plain": [
       "<matplotlib.figure.Figure at 0x11063b358>"
      ]
     },
     "metadata": {},
     "output_type": "display_data"
    }
   ],
   "source": [
    "import matplotlib.pyplot as plt\n",
    "plt.imshow(mri.data[:,:,30])\n",
    "plt.show()"
   ]
  },
  {
   "cell_type": "code",
   "execution_count": 122,
   "metadata": {},
   "outputs": [
    {
     "data": {
      "text/plain": [
       "array([[ 28.94542599,  28.94542599,  28.94542599, ...,  28.94542599,\n",
       "         28.94542599,  28.94542599],\n",
       "       [ 28.94542599,  28.94542599,  28.94542599, ...,  28.94542599,\n",
       "         28.94542599,  28.94542599],\n",
       "       [ 28.94542599,  28.94542599,  28.94542599, ...,  28.94542599,\n",
       "         28.94542599,  28.94542599],\n",
       "       ..., \n",
       "       [ 28.94542599,  28.94542599,  28.94542599, ...,  28.94542599,\n",
       "         28.94542599,  28.94542599],\n",
       "       [ 28.94542599,  28.94542599,  28.94542599, ...,  28.94542599,\n",
       "         28.94542599,  28.94542599],\n",
       "       [ 28.94542599,  28.94542599,  28.94542599, ...,  28.94542599,\n",
       "         28.94542599,  28.94542599]])"
      ]
     },
     "execution_count": 122,
     "metadata": {},
     "output_type": "execute_result"
    }
   ],
   "source": [
    "ZZZ"
   ]
  },
  {
   "cell_type": "code",
   "execution_count": null,
   "metadata": {
    "collapsed": true
   },
   "outputs": [],
   "source": []
  }
 ],
 "metadata": {
  "kernelspec": {
   "display_name": "Python 3",
   "language": "python",
   "name": "python3"
  },
  "language_info": {
   "codemirror_mode": {
    "name": "ipython",
    "version": 3
   },
   "file_extension": ".py",
   "mimetype": "text/x-python",
   "name": "python",
   "nbconvert_exporter": "python",
   "pygments_lexer": "ipython3",
   "version": "3.6.2"
  }
 },
 "nbformat": 4,
 "nbformat_minor": 2
}
