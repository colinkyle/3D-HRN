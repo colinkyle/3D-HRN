{
 "cells": [
  {
   "cell_type": "markdown",
   "metadata": {},
   "source": [
    "---\n",
    "title: Fitting a Multivariate Normal Model in PyMC3 with an LKJ Prior\n",
    "tags: Bayesian Statistics, PyMC3\n",
    "---"
   ]
  },
  {
   "cell_type": "markdown",
   "metadata": {},
   "source": [
    "Outside of the [beta](https://en.wikipedia.org/wiki/Beta_distribution)-[binomial](https://en.wikipedia.org/wiki/Binomial_distribution) model, the multivariate normal model is likely the most studied Bayesian model in history.  Unfortunately, as this [issue](https://github.com/pymc-devs/pymc3/issues/538) shows, `pymc3` cannot (yet) sample from the standard conjugate [normal-Wishart](https://en.wikipedia.org/wiki/Normal-Wishart_distribution) model.  Fortunately, `pymc3` *does* support sampling from the [LKJ distribution](http://www.sciencedirect.com/science/article/pii/S0047259X09000876).  This post will show how to fit a simple multivariate normal model using `pymc3` with an normal-LKJ prior.\n",
    "\n",
    "The normal-Wishart prior is conjugate for the multivariate normal model, so we can find the posterior distribution in closed form.  Even with this closed form solution, sampling from a multivariate normal model in `pymc3` is important as a building block for more complex models that will be discussed in future posts.\n",
    "\n",
    "First, we generate some two-dimensional sample data."
   ]
  },
  {
   "cell_type": "code",
   "execution_count": 1,
   "metadata": {
    "collapsed": true
   },
   "outputs": [],
   "source": [
    "%matplotlib inline"
   ]
  },
  {
   "cell_type": "code",
   "execution_count": 2,
   "metadata": {},
   "outputs": [],
   "source": [
    "from matplotlib.patches import Ellipse\n",
    "from matplotlib import pyplot as plt\n",
    "import numpy as np\n",
    "import pymc3 as pm\n",
    "import scipy as sp\n",
    "import seaborn as sns\n",
    "from theano import tensor as T"
   ]
  },
  {
   "cell_type": "code",
   "execution_count": 3,
   "metadata": {
    "collapsed": true
   },
   "outputs": [],
   "source": [
    "np.random.seed(3264602) # from random.org"
   ]
  },
  {
   "cell_type": "code",
   "execution_count": 4,
   "metadata": {},
   "outputs": [],
   "source": [
    "N = 100\n",
    "\n",
    "mu_actual = sp.stats.uniform.rvs(-5, 10, size=2)\n",
    "\n",
    "cov_actual_sqrt = sp.stats.uniform.rvs(0, 2, size=(2, 2))\n",
    "cov_actual = np.dot(cov_actual_sqrt.T, cov_actual_sqrt)\n",
    "\n",
    "x = sp.stats.multivariate_normal.rvs(mu_actual, cov_actual, size=N)"
   ]
  },
  {
   "cell_type": "code",
   "execution_count": 5,
   "metadata": {},
   "outputs": [],
   "source": [
    "var, U = np.linalg.eig(cov_actual)\n",
    "angle = 180. / np.pi * np.arccos(np.abs(U[0, 0]))"
   ]
  },
  {
   "cell_type": "code",
   "execution_count": 6,
   "metadata": {},
   "outputs": [
    {
     "data": {
      "image/png": "[encoded data removed]",
      "text/plain": [
       "<matplotlib.figure.Figure at 0x10f6d8a10>"
      ]
     },
     "metadata": {},
     "output_type": "display_data"
    }
   ],
   "source": [
    "fig, ax = plt.subplots(figsize=(8, 6))\n",
    "\n",
    "blue = sns.color_palette()[0]\n",
    "\n",
    "e = Ellipse(mu_actual, 2 * np.sqrt(5.991 * var[0]), 2 * np.sqrt(5.991 * var[1]), angle=-angle)\n",
    "e.set_alpha(0.5)\n",
    "e.set_facecolor('gray')\n",
    "e.set_zorder(10);\n",
    "ax.add_artist(e);\n",
    "\n",
    "ax.scatter(x[:, 0], x[:, 1], c='k', alpha=0.5, zorder=11);\n",
    "\n",
    "rect = plt.Rectangle((0, 0), 1, 1, fc='gray', alpha=0.5)\n",
    "ax.legend([rect], ['95% true credible region'], loc=2);"
   ]
  },
  {
   "cell_type": "markdown",
   "metadata": {},
   "source": [
    "The sampling distribution for our model is $x_i \\sim N(\\mu, \\Lambda)$, where $\\Lambda$ is the [precision matrix](https://en.wikipedia.org/wiki/Precision_(statistics)) of the distribution.  The precision matrix is the inverse of the covariance matrix.  The support of the LKJ distribution is the set of [correlation matrices](https://en.wikipedia.org/wiki/Correlation_and_dependence#Correlation_matrices), not covariance matrices.  We will use the separation strategy from [Barnard et al.](http://www3.stat.sinica.edu.tw/statistica/oldpdf/A10n416.pdf) to combine an LKJ prior on the correlation matrix with a prior on the standard deviations of each dimension to produce a prior on the covariance matrix.\n",
    "\n",
    "Let $\\sigma$ be the vector of standard deviations of each component of our normal distribution, and $\\mathbf{C}$ be the correlation matrix.   The relationship\n",
    "\n",
    "$$\\Sigma = \\operatorname{diag}(\\sigma)\\ \\mathbf{C} \\operatorname{diag}(\\sigma)$$\n",
    "\n",
    "shows that priors on $\\sigma$ and $\\mathbf{C}$ will induce a prior on $\\Sigma$.  Following Barnard et al., we place a standard [lognormal](https://en.wikipedia.org/wiki/Log-normal_distribution) prior each the elements $\\sigma$, and an LKJ prior on the correlation matric $\\mathbf{C}$.  The LKJ distribution requires a shape parameter $\\nu > 0$.  If $\\mathbf{C} \\sim LKJ(\\nu)$, then $f(\\mathbf{C}) \\propto |\\mathbf{C}|^{\\nu - 1}$ (here $|\\cdot|$ is the determinant).\n",
    "\n",
    "We can now begin to build this model in `pymc3`."
   ]
  },
  {
   "cell_type": "code",
   "execution_count": 7,
   "metadata": {},
   "outputs": [],
   "source": [
    "with pm.Model() as model:\n",
    "    sigma = pm.Lognormal('sigma', np.zeros(2), np.ones(2), shape=2)\n",
    "    \n",
    "    nu = pm.Uniform('nu', 0, 5)\n",
    "    C_triu = pm.LKJCorr('C_triu', nu, 2) "
   ]
  },
  {
   "cell_type": "markdown",
   "metadata": {},
   "source": [
    "There is a slight complication in `pymc3`'s handling of the `LKJCorr` distribution; `pymc3` represents the support of this distribution as a one-dimensional vector of the upper triangular elements of the full covariance matrix. "
   ]
  },
  {
   "cell_type": "code",
   "execution_count": 8,
   "metadata": {
    "scrolled": true
   },
   "outputs": [
    {
     "data": {
      "text/plain": [
       "(1,)"
      ]
     },
     "execution_count": 8,
     "metadata": {},
     "output_type": "execute_result"
    }
   ],
   "source": [
    "C_triu.tag.test_value.shape"
   ]
  },
  {
   "cell_type": "markdown",
   "metadata": {},
   "source": [
    "In order to build a the full correlation matric $\\mathbf{C}$, we first build a $2 \\times 2$ tensor whose values are all `C_triu` and then set the diagonal entries to one.  (Recall that a correlation matrix must be symmetric and positive definite with all diagonal entries equal to one.)  We can then proceed to build the covariance matrix $\\Sigma$ and the precision matrix $\\Lambda$."
   ]
  },
  {
   "cell_type": "code",
   "execution_count": 9,
   "metadata": {},
   "outputs": [],
   "source": [
    "with model:\n",
    "    C = pm.Deterministic('C', T.fill_diagonal(C_triu[np.zeros((2, 2), dtype=np.int64)], 1.))\n",
    "    \n",
    "    sigma_diag = pm.Deterministic('sigma_mat', T.nlinalg.diag(sigma))\n",
    "    cov = pm.Deterministic('cov', T.nlinalg.matrix_dot(sigma_diag, C, sigma_diag))\n",
    "    tau = pm.Deterministic('tau', T.nlinalg.matrix_inverse(cov))"
   ]
  },
  {
   "cell_type": "markdown",
   "metadata": {},
   "source": [
    "While defining `C` in terms of `C_triu` was simple in this case because our sampling distribution is two-dimensional, the example from this [StackOverflow question](http://stackoverflow.com/questions/29759789/modified-bpmf-in-pymc3-using-lkjcorr-priors-positivedefiniteerror-using-nuts) shows how to generalize this transformation to arbitrarily many dimensions.\n",
    "\n",
    "Finally, we define the prior on $\\mu$ and the sampling distribution."
   ]
  },
  {
   "cell_type": "code",
   "execution_count": 10,
   "metadata": {
    "collapsed": true
   },
   "outputs": [],
   "source": [
    "with model:\n",
    "    mu = pm.MvNormal('mu', 0, tau, shape=2)\n",
    "    \n",
    "    x_ = pm.MvNormal('x', mu, tau, observed=x)"
   ]
  },
  {
   "cell_type": "markdown",
   "metadata": {},
   "source": [
    "We are now ready to fit this model using `pymc3`."
   ]
  },
  {
   "cell_type": "code",
   "execution_count": 11,
   "metadata": {
    "collapsed": true
   },
   "outputs": [],
   "source": [
    "n_samples = 4000\n",
    "n_burn = 2000\n",
    "n_thin = 2"
   ]
  },
  {
   "cell_type": "code",
   "execution_count": 12,
   "metadata": {},
   "outputs": [
    {
     "name": "stderr",
     "output_type": "stream",
     "text": [
      "100%|██████████| 4000/4000 [00:04<00:00, 957.53it/s] \n"
     ]
    }
   ],
   "source": [
    "with model:\n",
    "    step = pm.Metropolis()\n",
    "    trace_ = pm.sample(n_samples, step)"
   ]
  },
  {
   "cell_type": "code",
   "execution_count": 13,
   "metadata": {
    "collapsed": true
   },
   "outputs": [],
   "source": [
    "trace = trace_[n_burn::n_thin]"
   ]
  },
  {
   "cell_type": "markdown",
   "metadata": {},
   "source": [
    "We see that the posterior estimate of $\\mu$ is reasonably accurate."
   ]
  },
  {
   "cell_type": "code",
   "execution_count": 15,
   "metadata": {},
   "outputs": [
    {
     "data": {
      "image/png": "[encoded data removed]",
      "text/plain": [
       "<matplotlib.figure.Figure at 0x10fb5e6d0>"
      ]
     },
     "metadata": {},
     "output_type": "display_data"
    }
   ],
   "source": [
    "pm.traceplot(trace, varnames=['mu']);"
   ]
  },
  {
   "cell_type": "code",
   "execution_count": null,
   "metadata": {},
   "outputs": [],
   "source": [
    "trace['mu'].mean(axis=0)"
   ]
  },
  {
   "cell_type": "code",
   "execution_count": null,
   "metadata": {},
   "outputs": [],
   "source": [
    "mu_actual"
   ]
  },
  {
   "cell_type": "markdown",
   "metadata": {},
   "source": [
    "The estimates of the standard deviations are certainly biased."
   ]
  },
  {
   "cell_type": "code",
   "execution_count": null,
   "metadata": {},
   "outputs": [],
   "source": [
    "pm.traceplot(trace, vars=['sigma']);"
   ]
  },
  {
   "cell_type": "code",
   "execution_count": null,
   "metadata": {},
   "outputs": [],
   "source": [
    "trace['sigma'].mean(axis=0)"
   ]
  },
  {
   "cell_type": "code",
   "execution_count": null,
   "metadata": {},
   "outputs": [],
   "source": [
    "np.sqrt(var)"
   ]
  },
  {
   "cell_type": "markdown",
   "metadata": {},
   "source": [
    "However, the 95% posterior credible region is visuall quite close to the true credible region, so we can be fairly satisfied with our model."
   ]
  },
  {
   "cell_type": "code",
   "execution_count": null,
   "metadata": {},
   "outputs": [],
   "source": [
    "post_cov = trace['cov'].mean(axis=0)\n",
    "\n",
    "post_sigma, post_U = np.linalg.eig(post_cov)\n",
    "post_angle = 180. / np.pi * np.arccos(np.abs(post_U[0, 0]))"
   ]
  },
  {
   "cell_type": "code",
   "execution_count": null,
   "metadata": {},
   "outputs": [],
   "source": [
    "fig, ax = plt.subplots(figsize=(8, 6))\n",
    "\n",
    "blue = sns.color_palette()[0]\n",
    "\n",
    "e = Ellipse(mu_actual, 2 * np.sqrt(5.991 * post_sigma[0]), 2 * np.sqrt(5.991 * post_sigma[1]), angle=-post_angle)\n",
    "e.set_alpha(0.5)\n",
    "e.set_facecolor(blue)\n",
    "e.set_zorder(9);\n",
    "ax.add_artist(e);\n",
    "\n",
    "e = Ellipse(mu_actual, 2 * np.sqrt(5.991 * var[0]), 2 * np.sqrt(5.991 * var[1]), angle=-angle)\n",
    "e.set_alpha(0.5)\n",
    "e.set_facecolor('gray')\n",
    "e.set_zorder(10);\n",
    "ax.add_artist(e);\n",
    "\n",
    "ax.scatter(x[:, 0], x[:, 1], c='k', alpha=0.5, zorder=11);\n",
    "\n",
    "rect = plt.Rectangle((0, 0), 1, 1, fc='gray', alpha=0.5)\n",
    "post_rect = plt.Rectangle((0, 0), 1, 1, fc=blue, alpha=0.5)\n",
    "ax.legend([rect, post_rect],\n",
    "          ['95% true credible region',\n",
    "           '95% posterior credible region'],\n",
    "          loc=2);"
   ]
  },
  {
   "cell_type": "markdown",
   "metadata": {},
   "source": [
    "Again, this model is quite simple, but will be an important component of more complex models that I will blog about in the future.\n",
    "\n",
    "This post is available as an [IPython](http://ipython.org/) notebook [here](https://gist.github.com/AustinRochford/fa24221f09df20071c06)."
   ]
  },
  {
   "cell_type": "code",
   "execution_count": null,
   "metadata": {
    "collapsed": true
   },
   "outputs": [],
   "source": []
  }
 ],
 "metadata": {
  "kernelspec": {
   "display_name": "Python 2",
   "language": "python",
   "name": "python2"
  },
  "language_info": {
   "codemirror_mode": {
    "name": "ipython",
    "version": 2
   },
   "file_extension": ".py",
   "mimetype": "text/x-python",
   "name": "python",
   "nbconvert_exporter": "python",
   "pygments_lexer": "ipython2",
   "version": "2.7.12"
  }
 },
 "nbformat": 4,
 "nbformat_minor": 1
}
